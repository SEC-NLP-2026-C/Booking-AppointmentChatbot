{
  "nbformat": 4,
  "nbformat_minor": 0,
  "metadata": {
    "colab": {
      "provenance": []
    },
    "kernelspec": {
      "name": "python3",
      "display_name": "Python 3"
    },
    "language_info": {
      "name": "python"
    }
  },
  "cells": [
    {
      "cell_type": "code",
      "execution_count": null,
      "metadata": {
        "colab": {
          "base_uri": "https://localhost:8080/"
        },
        "id": "c0LjzmvdCj38",
        "outputId": "2bce9205-9980-49bd-b1e5-f4cf09f257d5"
      },
      "outputs": [
        {
          "output_type": "stream",
          "name": "stdout",
          "text": [
            "Hello! I'm here to help you book an appointment. What's your name?\n",
            "You: ARTHI\n",
            "Bot: Nice to meet you, ARTHI! When would you like to book an appointment? Please provide the date (YYYY-MM-DD).\n",
            "You: 2024-11-27\n",
            "Bot: Got it! What time would you like to book the appointment? (e.g., 10:00 AM)\n",
            "You: 11:00 AM\n",
            "Bot: Your appointment is booked on 2024-11-27 at 11:00 AM. Thank you, ARTHI!\n"
          ]
        }
      ],
      "source": [
        "# Import necessary libraries\n",
        "import re\n",
        "import datetime\n",
        "\n",
        "# Chatbot class\n",
        "class AppointmentChatBot:\n",
        "    def __init__(self):\n",
        "        self.name = None\n",
        "        self.appointment_date = None\n",
        "        self.appointment_time = None\n",
        "\n",
        "    def greet(self):\n",
        "        return \"Hello! I'm here to help you book an appointment. What's your name?\"\n",
        "\n",
        "    def process_input(self, user_input):\n",
        "        # Basic intents\n",
        "        if not self.name:\n",
        "            self.name = user_input.strip()\n",
        "            return f\"Nice to meet you, {self.name}! When would you like to book an appointment? Please provide the date (YYYY-MM-DD).\"\n",
        "\n",
        "        if not self.appointment_date:\n",
        "            if self.validate_date(user_input):\n",
        "                self.appointment_date = user_input.strip()\n",
        "                return \"Got it! What time would you like to book the appointment? (e.g., 10:00 AM)\"\n",
        "            else:\n",
        "                return \"Invalid date format. Please enter the date in YYYY-MM-DD format.\"\n",
        "\n",
        "        if not self.appointment_time:\n",
        "            if self.validate_time(user_input):\n",
        "                self.appointment_time = user_input.strip()\n",
        "                return f\"Your appointment is booked on {self.appointment_date} at {self.appointment_time}. Thank you, {self.name}!\"\n",
        "            else:\n",
        "                return \"Invalid time format. Please enter the time in HH:MM AM/PM format.\"\n",
        "\n",
        "        return \"Your appointment is already booked. If you need to book another, please restart the chatbot.\"\n",
        "\n",
        "    def validate_date(self, date_text):\n",
        "        try:\n",
        "            datetime.datetime.strptime(date_text, '%Y-%m-%d')\n",
        "            return True\n",
        "        except ValueError:\n",
        "            return False\n",
        "\n",
        "    def validate_time(self, time_text):\n",
        "        pattern = re.compile(r'^\\d{1,2}:\\d{2}\\s?(AM|PM|am|pm)$')\n",
        "        return bool(pattern.match(time_text))\n",
        "\n",
        "# Initialize chatbot\n",
        "chatbot = AppointmentChatBot()\n",
        "\n",
        "# Run chatbot\n",
        "def run_chatbot():\n",
        "    print(chatbot.greet())\n",
        "    while True:\n",
        "        user_input = input(\"You: \")\n",
        "        response = chatbot.process_input(user_input)\n",
        "        print(f\"Bot: {response}\")\n",
        "        if \"Your appointment is booked\" in response:\n",
        "            break\n",
        "\n",
        "# Start the chatbot\n",
        "run_chatbot()\n"
      ]
    }
  ]
}